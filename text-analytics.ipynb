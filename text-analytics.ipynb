{
 "cells": [
  {
   "cell_type": "markdown",
   "metadata": {
    "id": "Y1E8KtogaZcH"
   },
   "source": [
    "# NLP kullanarak anahtar Kelime Çıkarımı\n",
    "\n",
    "Bu projede belirli bir alan ile ilgili pdf dosyaları ve youtube video altyazılarından text verileri çekilerek bu alana özgü anahtar kelimeler ve beraber sık bulunan ikili üçlü kelimeler bulunmaya çalışılmıştır. \n",
    "\n",
    "özellikle https://github.com/andybywire/nlp-text-analysis yararlanılmıştır.\n",
    "\n",
    "Google Collabs için kurulması gereken paketler"
   ]
  },
  {
   "cell_type": "code",
   "execution_count": 1,
   "metadata": {
    "colab": {
     "base_uri": "https://localhost:8080/"
    },
    "executionInfo": {
     "elapsed": 4395,
     "status": "ok",
     "timestamp": 1652104805897,
     "user": {
      "displayName": "Primum non nocere",
      "userId": "17006643258676635526"
     },
     "user_tz": -180
    },
    "id": "xXq4elgosLMR",
    "outputId": "90252331-4173-46d9-db1c-22baf7645894"
   },
   "outputs": [
    {
     "name": "stdout",
     "output_type": "stream",
     "text": [
      "Collecting en-core-web-sm==3.3.0\n",
      "  Downloading https://github.com/explosion/spacy-models/releases/download/en_core_web_sm-3.3.0/en_core_web_sm-3.3.0-py3-none-any.whl (12.8 MB)\n",
      "Requirement already satisfied: spacy<3.4.0,>=3.3.0.dev0 in c:\\src\\anaconda3\\lib\\site-packages (from en-core-web-sm==3.3.0) (3.3.0)\n",
      "Requirement already satisfied: murmurhash<1.1.0,>=0.28.0 in c:\\src\\anaconda3\\lib\\site-packages (from spacy<3.4.0,>=3.3.0.dev0->en-core-web-sm==3.3.0) (1.0.7)\n",
      "Requirement already satisfied: typer<0.5.0,>=0.3.0 in c:\\src\\anaconda3\\lib\\site-packages (from spacy<3.4.0,>=3.3.0.dev0->en-core-web-sm==3.3.0) (0.4.1)\n",
      "Requirement already satisfied: catalogue<2.1.0,>=2.0.6 in c:\\src\\anaconda3\\lib\\site-packages (from spacy<3.4.0,>=3.3.0.dev0->en-core-web-sm==3.3.0) (2.0.7)\n",
      "Requirement already satisfied: cymem<2.1.0,>=2.0.2 in c:\\src\\anaconda3\\lib\\site-packages (from spacy<3.4.0,>=3.3.0.dev0->en-core-web-sm==3.3.0) (2.0.6)\n",
      "Requirement already satisfied: spacy-legacy<3.1.0,>=3.0.9 in c:\\src\\anaconda3\\lib\\site-packages (from spacy<3.4.0,>=3.3.0.dev0->en-core-web-sm==3.3.0) (3.0.9)\n",
      "Requirement already satisfied: pydantic!=1.8,!=1.8.1,<1.9.0,>=1.7.4 in c:\\src\\anaconda3\\lib\\site-packages (from spacy<3.4.0,>=3.3.0.dev0->en-core-web-sm==3.3.0) (1.8.2)\n",
      "Requirement already satisfied: numpy>=1.15.0 in c:\\src\\anaconda3\\lib\\site-packages (from spacy<3.4.0,>=3.3.0.dev0->en-core-web-sm==3.3.0) (1.20.1)\n",
      "Requirement already satisfied: requests<3.0.0,>=2.13.0 in c:\\src\\anaconda3\\lib\\site-packages (from spacy<3.4.0,>=3.3.0.dev0->en-core-web-sm==3.3.0) (2.25.1)\n",
      "Requirement already satisfied: wasabi<1.1.0,>=0.9.1 in c:\\src\\anaconda3\\lib\\site-packages (from spacy<3.4.0,>=3.3.0.dev0->en-core-web-sm==3.3.0) (0.9.1)\n",
      "Requirement already satisfied: spacy-loggers<2.0.0,>=1.0.0 in c:\\src\\anaconda3\\lib\\site-packages (from spacy<3.4.0,>=3.3.0.dev0->en-core-web-sm==3.3.0) (1.0.2)\n",
      "Requirement already satisfied: srsly<3.0.0,>=2.4.3 in c:\\src\\anaconda3\\lib\\site-packages (from spacy<3.4.0,>=3.3.0.dev0->en-core-web-sm==3.3.0) (2.4.3)\n",
      "Requirement already satisfied: tqdm<5.0.0,>=4.38.0 in c:\\src\\anaconda3\\lib\\site-packages (from spacy<3.4.0,>=3.3.0.dev0->en-core-web-sm==3.3.0) (4.59.0)\n",
      "Requirement already satisfied: packaging>=20.0 in c:\\src\\anaconda3\\lib\\site-packages (from spacy<3.4.0,>=3.3.0.dev0->en-core-web-sm==3.3.0) (20.9)\n",
      "Requirement already satisfied: langcodes<4.0.0,>=3.2.0 in c:\\src\\anaconda3\\lib\\site-packages (from spacy<3.4.0,>=3.3.0.dev0->en-core-web-sm==3.3.0) (3.3.0)\n",
      "Requirement already satisfied: blis<0.8.0,>=0.4.0 in c:\\src\\anaconda3\\lib\\site-packages (from spacy<3.4.0,>=3.3.0.dev0->en-core-web-sm==3.3.0) (0.7.7)\n",
      "Requirement already satisfied: thinc<8.1.0,>=8.0.14 in c:\\src\\anaconda3\\lib\\site-packages (from spacy<3.4.0,>=3.3.0.dev0->en-core-web-sm==3.3.0) (8.0.16)\n",
      "Requirement already satisfied: preshed<3.1.0,>=3.0.2 in c:\\src\\anaconda3\\lib\\site-packages (from spacy<3.4.0,>=3.3.0.dev0->en-core-web-sm==3.3.0) (3.0.6)\n",
      "Requirement already satisfied: pathy>=0.3.5 in c:\\src\\anaconda3\\lib\\site-packages (from spacy<3.4.0,>=3.3.0.dev0->en-core-web-sm==3.3.0) (0.6.1)\n",
      "Requirement already satisfied: setuptools in c:\\src\\anaconda3\\lib\\site-packages (from spacy<3.4.0,>=3.3.0.dev0->en-core-web-sm==3.3.0) (52.0.0.post20210125)\n",
      "Requirement already satisfied: jinja2 in c:\\src\\anaconda3\\lib\\site-packages (from spacy<3.4.0,>=3.3.0.dev0->en-core-web-sm==3.3.0) (2.11.3)\n",
      "Requirement already satisfied: pyparsing>=2.0.2 in c:\\src\\anaconda3\\lib\\site-packages (from packaging>=20.0->spacy<3.4.0,>=3.3.0.dev0->en-core-web-sm==3.3.0) (2.4.7)\n",
      "Requirement already satisfied: smart-open<6.0.0,>=5.0.0 in c:\\src\\anaconda3\\lib\\site-packages (from pathy>=0.3.5->spacy<3.4.0,>=3.3.0.dev0->en-core-web-sm==3.3.0) (5.2.1)\n",
      "Requirement already satisfied: typing-extensions>=3.7.4.3 in c:\\src\\anaconda3\\lib\\site-packages (from pydantic!=1.8,!=1.8.1,<1.9.0,>=1.7.4->spacy<3.4.0,>=3.3.0.dev0->en-core-web-sm==3.3.0) (3.7.4.3)\n",
      "Requirement already satisfied: chardet<5,>=3.0.2 in c:\\src\\anaconda3\\lib\\site-packages (from requests<3.0.0,>=2.13.0->spacy<3.4.0,>=3.3.0.dev0->en-core-web-sm==3.3.0) (4.0.0)\n",
      "Requirement already satisfied: idna<3,>=2.5 in c:\\src\\anaconda3\\lib\\site-packages (from requests<3.0.0,>=2.13.0->spacy<3.4.0,>=3.3.0.dev0->en-core-web-sm==3.3.0) (2.10)\n",
      "Requirement already satisfied: certifi>=2017.4.17 in c:\\src\\anaconda3\\lib\\site-packages (from requests<3.0.0,>=2.13.0->spacy<3.4.0,>=3.3.0.dev0->en-core-web-sm==3.3.0) (2021.10.8)\n",
      "Requirement already satisfied: urllib3<1.27,>=1.21.1 in c:\\src\\anaconda3\\lib\\site-packages (from requests<3.0.0,>=2.13.0->spacy<3.4.0,>=3.3.0.dev0->en-core-web-sm==3.3.0) (1.26.4)\n",
      "Requirement already satisfied: click<9.0.0,>=7.1.1 in c:\\src\\anaconda3\\lib\\site-packages (from typer<0.5.0,>=0.3.0->spacy<3.4.0,>=3.3.0.dev0->en-core-web-sm==3.3.0) (7.1.2)\n",
      "Requirement already satisfied: MarkupSafe>=0.23 in c:\\src\\anaconda3\\lib\\site-packages (from jinja2->spacy<3.4.0,>=3.3.0.dev0->en-core-web-sm==3.3.0) (1.1.1)\n",
      "[+] Download and installation successful\n",
      "You can now load the package via spacy.load('en_core_web_sm')\n"
     ]
    }
   ],
   "source": [
    "# !pip install youtube_transcript_api\n",
    "# !pip install google-cloud-translate\n",
    "# !pip install PyPDF2\n",
    "# !pip install spacy\n",
    "# !pip install nltk\n",
    "!python -m spacy download en_core_web_sm"
   ]
  },
  {
   "cell_type": "markdown",
   "metadata": {},
   "source": [
    "## Gerekli kütüphaneler içeri aktarılır\n",
    "\n",
    "- youtube_transcript_api -> youtube videolarının altyazılarını indirmeyi sağlar.\n",
    "- google.cloud translate -> dil çevirisi yapmak için\n",
    "- PyPDF2 -> Pdf dosyalarından text çıkarımı için"
   ]
  },
  {
   "cell_type": "code",
   "execution_count": 2,
   "metadata": {
    "colab": {
     "base_uri": "https://localhost:8080/"
    },
    "executionInfo": {
     "elapsed": 269,
     "status": "ok",
     "timestamp": 1652106586778,
     "user": {
      "displayName": "Primum non nocere",
      "userId": "17006643258676635526"
     },
     "user_tz": -180
    },
    "id": "u5OZRKC4r8Mp",
    "outputId": "3ac3e261-aea2-4380-9857-1479bddc50eb",
    "scrolled": true
   },
   "outputs": [
    {
     "name": "stderr",
     "output_type": "stream",
     "text": [
      "[nltk_data] Downloading package stopwords to\n",
      "[nltk_data]     C:\\Users\\somebody\\AppData\\Roaming\\nltk_data...\n",
      "[nltk_data]   Package stopwords is already up-to-date!\n",
      "[nltk_data] Downloading package wordnet to\n",
      "[nltk_data]     C:\\Users\\somebody\\AppData\\Roaming\\nltk_data...\n",
      "[nltk_data]   Package wordnet is already up-to-date!\n",
      "[nltk_data] Downloading package punkt to\n",
      "[nltk_data]     C:\\Users\\somebody\\AppData\\Roaming\\nltk_data...\n",
      "[nltk_data]   Package punkt is already up-to-date!\n"
     ]
    }
   ],
   "source": [
    "import os\n",
    "from os import path\n",
    "import re\n",
    "from genericpath import isfile\n",
    "\n",
    "import nltk\n",
    "from nltk.corpus import stopwords, wordnet\n",
    "from nltk.tokenize import RegexpTokenizer, sent_tokenize, word_tokenize\n",
    "from nltk.stem.wordnet import WordNetLemmatizer\n",
    "\n",
    "# imports and load spacy english language package\n",
    "import spacy\n",
    "from spacy import displacy\n",
    "from spacy import tokenizer\n",
    "nlp = spacy.load('en_core_web_sm')\n",
    "\n",
    "import pandas as pd\n",
    "from youtube_transcript_api import YouTubeTranscriptApi\n",
    "import PyPDF2 as pydf\n",
    "from google.cloud import translate_v2 as translate\n",
    "\n",
    "from wordcloud import WordCloud, STOPWORDS, ImageColorGenerator\n",
    "from sklearn.feature_extraction.text import CountVectorizer\n",
    "from PIL import Image\n",
    "import matplotlib.pyplot as plt\n",
    "%matplotlib inline\n",
    "\n",
    "nltk.download('stopwords')\n",
    "nltk.download('wordnet')\n",
    "nltk.download('punkt')\n",
    "\n",
    "stop_words = set(stopwords.words(\"english\"))"
   ]
  },
  {
   "cell_type": "code",
   "execution_count": 3,
   "metadata": {},
   "outputs": [
    {
     "name": "stdout",
     "output_type": "stream",
     "text": [
      "179\n"
     ]
    }
   ],
   "source": [
    "print(len(stop_words))"
   ]
  },
  {
   "cell_type": "code",
   "execution_count": 4,
   "metadata": {
    "executionInfo": {
     "elapsed": 260,
     "status": "ok",
     "timestamp": 1652106140018,
     "user": {
      "displayName": "Primum non nocere",
      "userId": "17006643258676635526"
     },
     "user_tz": -180
    },
    "id": "wiMOJfpSzGyp"
   },
   "outputs": [],
   "source": [
    "usr = os.getlogin()\n",
    "os.chdir('/Users/'+usr+'/github/notebooks/nlp_proje')\n",
    "mypath = os.getcwd()"
   ]
  },
  {
   "cell_type": "markdown",
   "metadata": {},
   "source": [
    "#### Custom Stopwords\n",
    "Kendi istediğimiz kelimeleri ekliyebileceğimiz costom stopwords dosyasını ekleyip mevcut stopwords ile birleştiriyoruz."
   ]
  },
  {
   "cell_type": "code",
   "execution_count": 5,
   "metadata": {},
   "outputs": [],
   "source": [
    "# Load a set of custom stop words from a text file (one stopword per line)\n",
    "csw = set(line.strip() for line in open(mypath + '/custom-stopwords.txt'))\n",
    "csw = [sw.lower() for sw in csw]"
   ]
  },
  {
   "cell_type": "code",
   "execution_count": 6,
   "metadata": {},
   "outputs": [
    {
     "name": "stdout",
     "output_type": "stream",
     "text": [
      "['youknow', 'non', 'delirium', 'okey', 'am', 'alot', 'uh', 'umso', 'gonna', 'much', 'whatwe', 'sorry', 'same', 'she', 'is', 'he', 'yes', 'are', 'you', 'hi', 'um', 'yeah', 'no', 'it', 'goingto', 'word', 'how', 'umand']\n"
     ]
    }
   ],
   "source": [
    "print(csw)"
   ]
  },
  {
   "cell_type": "code",
   "execution_count": 7,
   "metadata": {},
   "outputs": [],
   "source": [
    "# Combine custom stop words with stop_words list\n",
    "stop_words = stop_words.union(csw)"
   ]
  },
  {
   "cell_type": "code",
   "execution_count": 8,
   "metadata": {},
   "outputs": [
    {
     "name": "stdout",
     "output_type": "stream",
     "text": [
      "197\n"
     ]
    }
   ],
   "source": [
    "print(len(stop_words))"
   ]
  },
  {
   "cell_type": "markdown",
   "metadata": {},
   "source": [
    "#### Temizleme Fonksiyonu:\n",
    "- Noktalama işaretlerini çıkar\n",
    "- Küçük harfe dönüştür\n",
    "- Etiketleri kaldır\n",
    "- Özel karakter ve rakamları temizle\n",
    "- Lemmatizasyon gerçekleştir"
   ]
  },
  {
   "cell_type": "code",
   "execution_count": 9,
   "metadata": {
    "executionInfo": {
     "elapsed": 338,
     "status": "ok",
     "timestamp": 1652107828279,
     "user": {
      "displayName": "Primum non nocere",
      "userId": "17006643258676635526"
     },
     "user_tz": -180
    },
    "id": "PnxyEGKhRyec"
   },
   "outputs": [],
   "source": [
    "def clean(input_text, _stop_words):\n",
    "    # Remove punctuation\n",
    "    text = re.sub('[^a-zA-Z]', ' ', input_text)\n",
    "\n",
    "    # Convert to lowercase\n",
    "    text = text.lower()\n",
    "\n",
    "    # Remove tags\n",
    "    text=re.sub('&lt;/?.*?&gt;',' &lt;&gt; ',text)\n",
    "\n",
    "    # Remove special characters and digits\n",
    "    text=re.sub('(\\\\d|\\\\W)+',' ',text)\n",
    "\n",
    "    # Convert to list from string\n",
    "    text = text.split()\n",
    "\n",
    "    # Lemmatisation\n",
    "    lem = WordNetLemmatizer()\n",
    "    text = [lem.lemmatize(word) for word in text if ((not word in  \n",
    "            _stop_words) and (len(word)<16 and len(word)>3))] \n",
    "    text = ' '.join(text)\n",
    "    return text"
   ]
  },
  {
   "cell_type": "markdown",
   "metadata": {},
   "source": [
    "## PDF DOSYALARINI ÇEVİR"
   ]
  },
  {
   "cell_type": "markdown",
   "metadata": {},
   "source": [
    "#### İstediğimiz alan dışındaki örnek pdf dosyalar için:\n",
    "\n",
    "    - Alandışı kelimeleri elemek için alan dışı pdf'lerin kelimeleri çıkarılır \n",
    "    - Bulunan kelimeler stopwords listesi ile birleştirilir."
   ]
  },
  {
   "cell_type": "code",
   "execution_count": 10,
   "metadata": {},
   "outputs": [],
   "source": [
    "stopwords_pdf_files = [f for f in os.listdir(mypath+'/stopwords_pdf')]"
   ]
  },
  {
   "cell_type": "code",
   "execution_count": 11,
   "metadata": {},
   "outputs": [
    {
     "name": "stdout",
     "output_type": "stream",
     "text": [
      "PDF files currently on your folder: \n",
      "['1-NLP-Practioner-interventions-1-50-English.pdf', 'Applying UML and Patterns 3rd Edition.pdf', 'emma.pdf', \"Gödel's incompleteness theorems - Wikipedia.pdf\", 'Karaboga ve Basturk - 2007 - A powerful and efficient algorithm for numerical f.pdf', 'les-miserables.pdf', 'numerical_methods_for_engineers_for_engineers_chapra_canale_6th_edition.pdf', 'Object-oriented-analysis-and-design-with-applications-2nd-edition.pdf', 'Operating_Systems_Internals_and_Design_Principles_7th_Edition_William_Stallings.pdf', 'pride-and-prejudice.pdf', 'the-adventures-of-huckleberry-finn.pdf', 'the-hound-of-the-baskervilles.pdf', 'the-three-musketeers.pdf', 'war-and-peace.pdf', 'WHAT IS NLP word.pdf'] \n",
      "\n"
     ]
    }
   ],
   "source": [
    "print('PDF files currently on your folder: ')\n",
    "print(stopwords_pdf_files,'\\n')"
   ]
  },
  {
   "cell_type": "code",
   "execution_count": 12,
   "metadata": {
    "scrolled": true
   },
   "outputs": [
    {
     "name": "stdout",
     "output_type": "stream",
     "text": [
      "=============START=============\n",
      "===>1-NLP-Practioner-interventions-1-50-English.pdf\n",
      "===>Applying UML and Patterns 3rd Edition.pdf\n",
      "===>emma.pdf\n",
      "===>Gödel's incompleteness theorems - Wikipedia.pdf\n",
      "===>Karaboga ve Basturk - 2007 - A powerful and efficient algorithm for numerical f.pdf\n",
      "===>les-miserables.pdf\n",
      "===>numerical_methods_for_engineers_for_engineers_chapra_canale_6th_edition.pdf\n",
      "===>Object-oriented-analysis-and-design-with-applications-2nd-edition.pdf\n",
      "===>Operating_Systems_Internals_and_Design_Principles_7th_Edition_William_Stallings.pdf\n",
      "===>pride-and-prejudice.pdf\n",
      "===>the-adventures-of-huckleberry-finn.pdf\n",
      "===>the-hound-of-the-baskervilles.pdf\n",
      "===>the-three-musketeers.pdf\n",
      "===>war-and-peace.pdf\n",
      "===>WHAT IS NLP word.pdf\n",
      "==============END==============\n"
     ]
    }
   ],
   "source": [
    "stopwords_book_text = \"\"\n",
    "print(\"=============START=============\")\n",
    "for spf in stopwords_pdf_files:\n",
    "    if '.pdf' in spf:\n",
    "        print('===>'+ spf)\n",
    "        reader = pydf.PdfFileReader(mypath+'/stopwords_pdf/'+ spf, strict=False)\n",
    "        number_of_pages = reader.numPages\n",
    "        for page in reader.pages:\n",
    "            stopwords_book_text += page.extractText()\n",
    "print(\"==============END==============\")    "
   ]
  },
  {
   "cell_type": "code",
   "execution_count": 13,
   "metadata": {},
   "outputs": [],
   "source": [
    "stopwords_pdf_word_text = word_tokenize(stopwords_book_text)"
   ]
  },
  {
   "cell_type": "code",
   "execution_count": 14,
   "metadata": {},
   "outputs": [
    {
     "name": "stdout",
     "output_type": "stream",
     "text": [
      "6848693  words\n"
     ]
    }
   ],
   "source": [
    "print(len(stopwords_pdf_word_text),' words')"
   ]
  },
  {
   "cell_type": "code",
   "execution_count": 16,
   "metadata": {},
   "outputs": [],
   "source": [
    "stopwords_pdf_words = []\n",
    "for i in stopwords_pdf_word_text:\n",
    "    x = clean(i, set()) #burada temizlik işleminde stopwords kullanmıyoruz\n",
    "    if(x!=''):\n",
    "        stopwords_pdf_words.append(x)\n",
    "stopwords_pdf_words_set = set(word for word in stopwords_pdf_words)"
   ]
  },
  {
   "cell_type": "code",
   "execution_count": 17,
   "metadata": {},
   "outputs": [
    {
     "name": "stdout",
     "output_type": "stream",
     "text": [
      "732544  words\n",
      "54917  words\n"
     ]
    }
   ],
   "source": [
    "# print(pdf_words)\n",
    "print(len(stopwords_pdf_words),' words')\n",
    "print(len(stopwords_pdf_words_set),' words')"
   ]
  },
  {
   "cell_type": "code",
   "execution_count": 18,
   "metadata": {},
   "outputs": [],
   "source": [
    "stop_words = stop_words.union(stopwords_pdf_words_set)"
   ]
  },
  {
   "cell_type": "code",
   "execution_count": 19,
   "metadata": {},
   "outputs": [
    {
     "name": "stdout",
     "output_type": "stream",
     "text": [
      "55035\n"
     ]
    }
   ],
   "source": [
    "print(len(stop_words))"
   ]
  },
  {
   "cell_type": "code",
   "execution_count": 20,
   "metadata": {},
   "outputs": [
    {
     "name": "stdout",
     "output_type": "stream",
     "text": [
      "54\n"
     ]
    }
   ],
   "source": [
    "# youtube altyazılarını getir\n",
    "yst = [line.strip().split(\"=\")[1].split(\"&\")[0] for line in open(mypath + '/stopwords_youtube_links.txt') if line.strip() !='']\n",
    "print(len(yst))"
   ]
  },
  {
   "cell_type": "code",
   "execution_count": 21,
   "metadata": {},
   "outputs": [],
   "source": [
    "stopwords_subtitles = \"\"\n",
    "\n",
    "for st in yst:\n",
    "  sub = YouTubeTranscriptApi.get_transcript(st)\n",
    "  text = \"\"  \n",
    "  for i in sub:\n",
    "      text += i[\"text\"]\n",
    "  stopwords_subtitles += text\n",
    "\n",
    "subtitle_corpus = clean(stopwords_subtitles, set())"
   ]
  },
  {
   "cell_type": "code",
   "execution_count": 22,
   "metadata": {},
   "outputs": [],
   "source": [
    "stopwords_y_words = word_tokenize(subtitle_corpus)\n",
    "stopwords_y_words_set = set(word for word in stopwords_y_words)"
   ]
  },
  {
   "cell_type": "code",
   "execution_count": 23,
   "metadata": {},
   "outputs": [
    {
     "name": "stdout",
     "output_type": "stream",
     "text": [
      "121499\n",
      "17143\n"
     ]
    }
   ],
   "source": [
    "print(len(stopwords_y_words))\n",
    "print(len(stopwords_y_words_set))"
   ]
  },
  {
   "cell_type": "code",
   "execution_count": 24,
   "metadata": {},
   "outputs": [
    {
     "name": "stdout",
     "output_type": "stream",
     "text": [
      "67553\n"
     ]
    }
   ],
   "source": [
    "stop_words = stop_words.union(stopwords_y_words_set)\n",
    "print(len(stop_words))"
   ]
  },
  {
   "cell_type": "code",
   "execution_count": 25,
   "metadata": {},
   "outputs": [],
   "source": [
    "with open(mypath+\"\\pdf_stopwords.csv\", \"w\") as file:\n",
    "  for word in stop_words:\n",
    "    file.write(word+\",\")"
   ]
  },
  {
   "cell_type": "markdown",
   "metadata": {},
   "source": [
    "# İstediğimiz alandaki pdf dosyalar için:"
   ]
  },
  {
   "cell_type": "code",
   "execution_count": 26,
   "metadata": {},
   "outputs": [],
   "source": [
    "pdf_files = [f for f in os.listdir(mypath+'/pdf')]"
   ]
  },
  {
   "cell_type": "code",
   "execution_count": 27,
   "metadata": {},
   "outputs": [
    {
     "name": "stdout",
     "output_type": "stream",
     "text": [
      "PDF files currently on your folder: \n",
      "['1-s2.0-S1076633221004189.pdf', '2021.teachingnlp-1.21.pdf', 'glaa275.pdf', 'introduction-to-natural-language-processing.pdf', \"Natural Language Processing with Python - O'Reilly2009.pdf\", 'Natural_Language_Processing_Succinctly.pdf', 'nlp-book.pdf', 'nlpwp.pdf', 'ocab228.pdf', 'revised.pdf'] \n",
      "\n"
     ]
    }
   ],
   "source": [
    "print('PDF files currently on your folder: ')\n",
    "print(pdf_files,'\\n')"
   ]
  },
  {
   "cell_type": "code",
   "execution_count": 28,
   "metadata": {
    "colab": {
     "base_uri": "https://localhost:8080/"
    },
    "executionInfo": {
     "elapsed": 31122,
     "status": "ok",
     "timestamp": 1652107332100,
     "user": {
      "displayName": "Primum non nocere",
      "userId": "17006643258676635526"
     },
     "user_tz": -180
    },
    "id": "zJovxjFxLzdo",
    "outputId": "69528ec4-f34a-4d8f-d71b-a506277ae173"
   },
   "outputs": [
    {
     "name": "stdout",
     "output_type": "stream",
     "text": [
      "=============START=============\n",
      "===>1-s2.0-S1076633221004189.pdf\n",
      "===>2021.teachingnlp-1.21.pdf\n",
      "===>glaa275.pdf\n",
      "===>introduction-to-natural-language-processing.pdf\n",
      "===>Natural Language Processing with Python - O'Reilly2009.pdf\n",
      "===>Natural_Language_Processing_Succinctly.pdf\n",
      "===>nlp-book.pdf\n",
      "===>nlpwp.pdf\n",
      "===>ocab228.pdf\n",
      "===>revised.pdf\n",
      "==============END==============\n"
     ]
    }
   ],
   "source": [
    "book_text = \"\"\n",
    "print(\"=============START=============\")\n",
    "for pf in pdf_files:\n",
    "    if '.pdf' in pf:\n",
    "        print('===>'+ pf)\n",
    "        reader = pydf.PdfFileReader(mypath+'/pdf/'+ pf, strict=False)\n",
    "        number_of_pages = reader.numPages\n",
    "        for page in reader.pages:\n",
    "            book_text += page.extractText()\n",
    "print(\"==============END==============\")    "
   ]
  },
  {
   "cell_type": "code",
   "execution_count": 29,
   "metadata": {},
   "outputs": [],
   "source": [
    "book_corpus = clean(book_text, stop_words)"
   ]
  },
  {
   "cell_type": "code",
   "execution_count": 30,
   "metadata": {},
   "outputs": [
    {
     "name": "stdout",
     "output_type": "stream",
     "text": [
      "283440\n"
     ]
    }
   ],
   "source": [
    "print(len(book_corpus))"
   ]
  },
  {
   "cell_type": "code",
   "execution_count": 31,
   "metadata": {
    "colab": {
     "background_save": true,
     "base_uri": "https://localhost:8080/",
     "output_embedded_package_id": "1gKaNc0w52CEdOt-mAQ5fh7UOfPYIQxLV"
    },
    "executionInfo": {
     "elapsed": 2395,
     "status": "ok",
     "timestamp": 1652111136913,
     "user": {
      "displayName": "Primum non nocere",
      "userId": "17006643258676635526"
     },
     "user_tz": -180
    },
    "id": "_iU2IfeITdTW",
    "outputId": "052970b1-e842-42b7-8a0b-7d871f4b151f"
   },
   "outputs": [],
   "source": [
    "pdf_sentence_text = sent_tokenize(book_text)"
   ]
  },
  {
   "cell_type": "code",
   "execution_count": 32,
   "metadata": {},
   "outputs": [
    {
     "name": "stdout",
     "output_type": "stream",
     "text": [
      "18930  sentences\n"
     ]
    }
   ],
   "source": [
    "# print(pdf_sentence_text)\n",
    "print(len(pdf_sentence_text), ' sentences')"
   ]
  },
  {
   "cell_type": "code",
   "execution_count": 33,
   "metadata": {
    "colab": {
     "background_save": true,
     "output_embedded_package_id": "1lp6cFKk00PSmJFa-c9lLG6fOcogkHlAy"
    },
    "id": "ETVPH8ZFf-Y7",
    "outputId": "9e3b5160-a0bb-47d3-bb25-6f077ea6abda"
   },
   "outputs": [],
   "source": [
    "pdf_sentences = []\n",
    "for i in pdf_sentence_text:\n",
    "    x = clean(i, set()) #burada temizlik işleminde stopwords kullanmıyoruz\n",
    "    if(x!=''):\n",
    "        pdf_sentences.append(x)"
   ]
  },
  {
   "cell_type": "code",
   "execution_count": 34,
   "metadata": {},
   "outputs": [
    {
     "name": "stdout",
     "output_type": "stream",
     "text": [
      "7663  sentences\n"
     ]
    }
   ],
   "source": [
    "# print(pdf_sentences)\n",
    "print(len(pdf_sentences), ' sentences')"
   ]
  },
  {
   "cell_type": "code",
   "execution_count": 35,
   "metadata": {},
   "outputs": [],
   "source": [
    "pdf_word_text = word_tokenize(book_text)"
   ]
  },
  {
   "cell_type": "code",
   "execution_count": 36,
   "metadata": {},
   "outputs": [
    {
     "name": "stdout",
     "output_type": "stream",
     "text": [
      "299615  words\n"
     ]
    }
   ],
   "source": [
    "# print(pdf_word_text[100:])\n",
    "print(len(pdf_word_text),' words')"
   ]
  },
  {
   "cell_type": "code",
   "execution_count": 37,
   "metadata": {},
   "outputs": [],
   "source": [
    "pdf_words = []\n",
    "for i in pdf_word_text:\n",
    "    x = clean(i, stop_words)\n",
    "    if(x!=''):\n",
    "        pdf_words.append(x)\n",
    "pdf_words_set = set(word for word in pdf_words)"
   ]
  },
  {
   "cell_type": "code",
   "execution_count": 38,
   "metadata": {},
   "outputs": [
    {
     "name": "stdout",
     "output_type": "stream",
     "text": [
      "32245  words\n",
      "13948  words\n"
     ]
    }
   ],
   "source": [
    "# print(pdf_words)\n",
    "print(len(pdf_words),' words')\n",
    "print(len(pdf_words_set),' words')"
   ]
  },
  {
   "cell_type": "code",
   "execution_count": 39,
   "metadata": {},
   "outputs": [
    {
     "name": "stdout",
     "output_type": "stream",
     "text": [
      "13948\n"
     ]
    }
   ],
   "source": [
    "print(len(pdf_words_set))"
   ]
  },
  {
   "cell_type": "markdown",
   "metadata": {},
   "source": [
    "## YOUTUBE ALT YAZILARINI İŞLE"
   ]
  },
  {
   "cell_type": "code",
   "execution_count": 40,
   "metadata": {
    "colab": {
     "base_uri": "https://localhost:8080/"
    },
    "executionInfo": {
     "elapsed": 354,
     "status": "ok",
     "timestamp": 1652107710581,
     "user": {
      "displayName": "Primum non nocere",
      "userId": "17006643258676635526"
     },
     "user_tz": -180
    },
    "id": "IPDP5OgTyFrg",
    "outputId": "89f7efbc-4888-4a39-9272-0526d36df175"
   },
   "outputs": [
    {
     "name": "stdout",
     "output_type": "stream",
     "text": [
      "23\n"
     ]
    }
   ],
   "source": [
    "# youtube altyazılarını getir\n",
    "yst = [line.strip().split(\"=\")[1].split(\"&\")[0] for line in open(mypath + '/youtube_links.txt') if line.strip() !='']\n",
    "print(len(yst))"
   ]
  },
  {
   "cell_type": "code",
   "execution_count": 41,
   "metadata": {
    "colab": {
     "base_uri": "https://localhost:8080/"
    },
    "executionInfo": {
     "elapsed": 14224,
     "status": "ok",
     "timestamp": 1652104903776,
     "user": {
      "displayName": "Primum non nocere",
      "userId": "17006643258676635526"
     },
     "user_tz": -180
    },
    "id": "UTxW_-t80sou",
    "outputId": "d190d864-810f-4dbe-ddec-4993ef50b2b0"
   },
   "outputs": [],
   "source": [
    "subtitles = \"\"\n",
    "\n",
    "for st in yst:\n",
    "  sub = YouTubeTranscriptApi.get_transcript(st)\n",
    "  text = \"\"  \n",
    "  for i in sub:\n",
    "      text += i[\"text\"]\n",
    "  subtitles += text\n",
    "\n",
    "subtitle_corpus = clean(subtitles, stop_words)"
   ]
  },
  {
   "cell_type": "code",
   "execution_count": 42,
   "metadata": {
    "executionInfo": {
     "elapsed": 2018,
     "status": "ok",
     "timestamp": 1652104916054,
     "user": {
      "displayName": "Primum non nocere",
      "userId": "17006643258676635526"
     },
     "user_tz": -180
    },
    "id": "ITfj-R1U_Anx"
   },
   "outputs": [],
   "source": [
    "y_words = word_tokenize(subtitle_corpus)\n",
    "y_words_set = set(word for word in y_words)"
   ]
  },
  {
   "cell_type": "code",
   "execution_count": 43,
   "metadata": {
    "colab": {
     "base_uri": "https://localhost:8080/"
    },
    "executionInfo": {
     "elapsed": 5,
     "status": "ok",
     "timestamp": 1652104921410,
     "user": {
      "displayName": "Primum non nocere",
      "userId": "17006643258676635526"
     },
     "user_tz": -180
    },
    "id": "_ZJK38a7AHfE",
    "outputId": "eeb724cb-264d-4041-f90a-585dab5f2614"
   },
   "outputs": [
    {
     "name": "stdout",
     "output_type": "stream",
     "text": [
      "36345\n",
      "21628\n"
     ]
    }
   ],
   "source": [
    "print(len(y_words))\n",
    "print(len(y_words_set))"
   ]
  },
  {
   "cell_type": "code",
   "execution_count": 44,
   "metadata": {
    "executionInfo": {
     "elapsed": 2,
     "status": "ok",
     "timestamp": 1652104929002,
     "user": {
      "displayName": "Primum non nocere",
      "userId": "17006643258676635526"
     },
     "user_tz": -180
    },
    "id": "qH63NYr7BTvL"
   },
   "outputs": [],
   "source": [
    "with open(mypath+\"\\subtitle.csv\", \"w\") as file:\n",
    "  for word in y_words_set:\n",
    "    file.write(word+\",\")"
   ]
  },
  {
   "cell_type": "markdown",
   "metadata": {},
   "source": [
    "#### ELDE EDİLEN KELİMELERİ BİRLEŞTİRME"
   ]
  },
  {
   "cell_type": "code",
   "execution_count": 45,
   "metadata": {},
   "outputs": [],
   "source": [
    "all_words_set = pdf_words_set.union(y_words_set)"
   ]
  },
  {
   "cell_type": "code",
   "execution_count": 46,
   "metadata": {},
   "outputs": [
    {
     "name": "stdout",
     "output_type": "stream",
     "text": [
      "34499\n"
     ]
    }
   ],
   "source": [
    "print(len(all_words_set))"
   ]
  },
  {
   "cell_type": "code",
   "execution_count": 47,
   "metadata": {},
   "outputs": [],
   "source": [
    "with open(mypath+\"\\words.csv\", \"w\") as file:\n",
    "  for word in all_words_set:\n",
    "    file.write(word+\",\")"
   ]
  },
  {
   "cell_type": "code",
   "execution_count": 48,
   "metadata": {},
   "outputs": [],
   "source": [
    "all_words = y_words + pdf_words"
   ]
  },
  {
   "cell_type": "code",
   "execution_count": 49,
   "metadata": {},
   "outputs": [],
   "source": [
    "corpus = book_corpus + subtitle_corpus"
   ]
  },
  {
   "cell_type": "code",
   "execution_count": 50,
   "metadata": {},
   "outputs": [],
   "source": [
    "#ardarda tekrar eden kelimeleri engelle\n",
    "temp_list = corpus.split()\n",
    "corpus_t = ''\n",
    "for i in range(1,len(temp_list)):\n",
    "    if temp_list[i]!= temp_list[i-1]:\n",
    "        corpus_t += temp_list[i]+' '\n",
    "corpus = [corpus_t]"
   ]
  },
  {
   "cell_type": "code",
   "execution_count": 51,
   "metadata": {
    "colab": {
     "base_uri": "https://localhost:8080/"
    },
    "executionInfo": {
     "elapsed": 1974,
     "status": "ok",
     "timestamp": 1652105044455,
     "user": {
      "displayName": "Primum non nocere",
      "userId": "17006643258676635526"
     },
     "user_tz": -180
    },
    "id": "0H0qs7c2k-Uw",
    "outputId": "75a5e8d5-0621-447e-9672-0e8538b330bd"
   },
   "outputs": [
    {
     "data": {
      "text/plain": [
       "word        982\n",
       "nltk        580\n",
       "corpus      556\n",
       "model       461\n",
       "thing       405\n",
       "sentence    253\n",
       "system      195\n",
       "language    184\n",
       "rule        181\n",
       "example     176\n",
       "question    173\n",
       "token       165\n",
       "feature     163\n",
       "mean        154\n",
       "vector      147\n",
       "student     143\n",
       "grammar     141\n",
       "term        136\n",
       "work        128\n",
       "task        125\n",
       "dtype: int64"
      ]
     },
     "execution_count": 51,
     "metadata": {},
     "output_type": "execute_result"
    }
   ],
   "source": [
    "# View 10 most common words prior to text pre-processing\n",
    "freq = pd.Series(' '.join(map(str, corpus)).split()).value_counts()[:20]\n",
    "freq"
   ]
  },
  {
   "cell_type": "code",
   "execution_count": 52,
   "metadata": {
    "scrolled": true
   },
   "outputs": [
    {
     "name": "stdout",
     "output_type": "stream",
     "text": [
      "<wordcloud.wordcloud.WordCloud object at 0x000001C6D82E2340>\n"
     ]
    },
    {
     "data": {
      "image/png": "[encoded data removed]",
      "text/plain": [
       "<Figure size 432x288 with 1 Axes>"
      ]
     },
     "metadata": {
      "needs_background": "light"
     },
     "output_type": "display_data"
    }
   ],
   "source": [
    "# Generate word cloud\n",
    "\n",
    "wordcloud = WordCloud(\n",
    "                          background_color='white',\n",
    "                          stopwords=stop_words,\n",
    "                          max_words=30,\n",
    "                          max_font_size=50, \n",
    "                          random_state=42\n",
    "                         ).generate(str(all_words).replace('\\'',' '))\n",
    "print(wordcloud)\n",
    "fig = plt.figure(1)\n",
    "plt.imshow(wordcloud)\n",
    "plt.axis('off')\n",
    "plt.show()\n",
    "fig.savefig(mypath + \"\\wordcloud.png\", dpi=900)"
   ]
  },
  {
   "cell_type": "code",
   "execution_count": 53,
   "metadata": {},
   "outputs": [
    {
     "name": "stderr",
     "output_type": "stream",
     "text": [
      "UserWarning: Your stop_words may be inconsistent with your preprocessing. Tokenizing the stop words generated tokens ['abdul', 'actio', 'activecell', 'afewd', 'alkalinity', 'allobject', 'alloy', 'amodi', 'anadams', 'anant', 'anarti', 'andobject', 'andps', 'andself', 'anef', 'anonlooker', 'apprentice', 'arcus', 'areabletoself', 'arstechnica', 'asamax', 'asphalt', 'atiwon', 'atthethirdstage', 'atvalley', 'basedaccess', 'bashforth', 'basturkand', 'becquerel', 'beecolony', 'beesisveryef', 'belgium', 'benatchbaetal', 'bennet', 'bffffbecc', 'bffffbf', 'bgnet', 'bindery', 'blown', 'boltzmann', 'brandx', 'brockhas', 'broyden', 'brue', 'bulirsch', 'burger', 'businessmediab', 'butitdon', 'butwon', 'bycompany', 'bythebee', 'bythesesettings', 'canbeclassi', 'canttolerance', 'cationon', 'cator', 'cauchy', 'ceil', 'cerdid', 'champagne', 'champaign', 'chosenindexes', 'cialbee', 'cialbeecolony', 'cialbeesdo', 'cialcomputation', 'cialrecruit', 'cialsystems', 'cientfault', 'cientforlocal', 'cimne', 'classname', 'clearid', 'clopedia', 'cole', 'colossal', 'columbia', 'conry', 'constraine', 'coworkers', 'criss', 'crummey', 'cult', 'cultpartabout', 'culttoconverge', 'culver', 'currentorder', 'customero', 'daggett', 'damper', 'davidon', 'dayc', 'ddison', 'dently', 'depende', 'designtrade', 'developerworks', 'diffusionmodel', 'digested', 'dipped', 'dispatc', 'diverging', 'driasetal', 'ducer', 'eainref', 'eaonasetofmulti', 'economized', 'ecospro', 'edged', 'edintodiffer', 'eisenberg', 'electro', 'emerg', 'eney', 'engle', 'ensured', 'erance', 'erdos', 'erehehad', 'ermeyou', 'escentof', 'esemay', 'executor', 'exhandling', 'eyouwon', 'fcffbf', 'fcffbfargv', 'fcffbfold', 'feec', 'forenow', 'forsimplicity', 'foryounow', 'fourthadams', 'foutlh', 'francis', 'functioned', 'gaming', 'gervais', 'getbtn', 'getparam', 'getpayment', 'gilented', 'goldfarb', 'grape', 'grati', 'gregory', 'hazen', 'hegrape', 'hepope', 'herzberg', 'hesoldier', 'heuris', 'heuristicto', 'honeybeeswarm', 'honeywell', 'hostile', 'hoveo', 'htnottodo', 'hydon', 'iceberg', 'ictai', 'idletask', 'ihoo', 'indented', 'indsor', 'ineffi', 'ingenious', 'inhermemoryfor', 'interscience', 'introducedameta', 'introspector', 'intunsafe', 'invax', 'iptor', 'irecog', 'irqrestore', 'istheself', 'jair', 'jpos', 'jposfactory', 'jupiterimages', 'justi', 'kenaway', 'keof', 'krieg', 'kronrod', 'kuang', 'kwong', 'languagetowns', 'lecturenotes', 'lehigh', 'levenberg', 'loadedhisg', 'lonher', 'lozo', 'lyounow', 'matcher', 'mcguire', 'medard', 'melody', 'menten', 'meriam', 'merriam', 'merriarn', 'merwin', 'michaelis', 'minded', 'misc', 'movable', 'mpletoyou', 'mycompany', 'naturalandarti', 'ndinganew', 'ndiwon', 'ndred', 'nelder', 'neville', 'newns', 'ngdc', 'nghelter', 'ngroom', 'ngsnow', 'nicols', 'nirty', 'nnoticesvol', 'nnotto', 'noaa', 'nomograph', 'nonalgebraic', 'nonobject', 'objectsbydesign', 'ockingor', 'ofiented', 'ofout', 'ofthepresentone', 'oliented', 'ometow', 'onquer', 'onreceiv', 'onthedancearea', 'opensyst', 'orco', 'orderadams', 'ordert', 'orientedsystem', 'ortiz', 'ortizbo', 'paedia', 'parabolicshaped', 'pckfdu', 'peration', 'pessimistic', 'phelps', 'posdrivers', 'progran', 'proposedarti', 'psjfoufe', 'ptitup', 'ptrace', 'pub', 'publishedonline', 'rados', 'rahman', 'rammler', 'rclass', 'reafo', 'redbooks', 'redlich', 'reef', 'replo', 'requestsalesrep', 'rictly', 'ronnow', 'rooter', 'rosin', 'rror', 'rtdca', 'runfinalization', 'russadam', 'safeparadigm', 'saint', 'sanchez', 'sande', 'sandia', 'sarchit', 'schoices', 'secondadams', 'seealso', 'sematech', 'semblage', 'servative', 'setscheduler', 'settable', 'settext', 'settid', 'settls', 'sever', 'sfuture', 'sgoth', 'shanno', 'sheadbr', 'sheseemedtobe', 'shottoorderfort', 'shschoolingwas', 'sidedness', 'sighand', 'signi', 'sigpl', 'sinceitisdif', 'singletonclass', 'sionfor', 'sjoumal', 'skelter', 'sname', 'solder', 'solvingtwo', 'specializatio', 'specifyi', 'springerscience', 'ssoftwareis', 'stefan', 'stoer', 'stoldtogo', 'stool', 'stopro', 'streeter', 'stren', 'strendline', 'swarming', 'swherei', 'sysvsem', 'tblow', 'tcond', 'tdoita', 'tdos', 'tdotofo', 'techonline', 'tegrands', 'teledyne', 'telescoped', 'terdependent', 'tgoouttot', 'thearti', 'thecolossal', 'thedif', 'thelibrary', 'themostcomplex', 'theoptimaof', 'thesearch', 'thewgtmeeting', 'thisindeed', 'threadkernel', 'tigris', 'timeslicing', 'timesystem', 'tlovehe', 'tmovef', 'tmut', 'toint', 'toitemid', 'tomyt', 'topped', 'toseveralreal', 'traub', 'tryget', 'trylock', 'tryp', 'tryput', 'ttomb', 'tworkforme', 'umltools', 'uncompressrest', 'unicamp', 'unixtime', 'unmask', 'unsteady', 'upccode', 'utils', 'vealways', 'veggie', 'vegotyou', 'verbphrase', 'verlag', 'vetterling', 'vfork', 'villeneuve', 'vortex', 'walled', 'weii', 'wewome', 'whohadre', 'wikiwiki', 'wine', 'withtwo', 'wound', 'writt', 'youo', 'zmax', 'zmin'] not in stop_words. [text.py:388]\n"
     ]
    }
   ],
   "source": [
    "# Tokenize the text and build a vocabulary of known words\n",
    "\n",
    "cv=CountVectorizer(max_df=0.8,stop_words=stop_words, max_features=10000, ngram_range=(1,3))\n",
    "X=cv.fit_transform(all_words)"
   ]
  },
  {
   "cell_type": "code",
   "execution_count": 54,
   "metadata": {},
   "outputs": [
    {
     "data": {
      "text/plain": [
       "['spacey',\n",
       " 'mattingly',\n",
       " 'multilingual',\n",
       " 'medieval',\n",
       " 'regex',\n",
       " 'parser',\n",
       " 'recognizer',\n",
       " 'oftentimes',\n",
       " 'tagging',\n",
       " 'summarization']"
      ]
     },
     "execution_count": 54,
     "metadata": {},
     "output_type": "execute_result"
    }
   ],
   "source": [
    "# Sample the returned vector encoding the length of the entire vocabulary\n",
    "list(cv.vocabulary_.keys())[:10]"
   ]
  },
  {
   "cell_type": "code",
   "execution_count": 55,
   "metadata": {},
   "outputs": [
    {
     "name": "stdout",
     "output_type": "stream",
     "text": [
      "     Keyword  Frequency\n",
      "0       word        982\n",
      "1       nltk        580\n",
      "2     corpus        556\n",
      "3      model        461\n",
      "4      thing        405\n",
      "5   sentence        253\n",
      "6     system        195\n",
      "7   language        184\n",
      "8       rule        181\n",
      "9    example        176\n",
      "10  question        173\n",
      "11     token        165\n",
      "12   feature        163\n",
      "13      mean        154\n",
      "14    vector        147\n",
      "15   student        143\n",
      "16   grammar        141\n",
      "17      term        136\n",
      "18      work        128\n",
      "19      task        125\n",
      "20       way        124\n",
      "21      sent        122\n",
      "22    result        116\n",
      "23      idea        116\n",
      "24    parser        113\n"
     ]
    },
    {
     "data": {
      "image/png": "[encoded data removed]",
      "text/plain": [
       "<Figure size 936x576 with 1 Axes>"
      ]
     },
     "metadata": {},
     "output_type": "display_data"
    }
   ],
   "source": [
    "# View most frequently occuring keywords\n",
    "def get_top_n_words(corpus, n=None):\n",
    "    vec = CountVectorizer().fit(corpus)\n",
    "    bag_of_words = vec.transform(corpus)\n",
    "    sum_words = bag_of_words.sum(axis=0) \n",
    "    words_freq = [(word, sum_words[0, idx]) for word, idx in      \n",
    "                   vec.vocabulary_.items()]\n",
    "    words_freq =sorted(words_freq, key = lambda x: x[1], \n",
    "                       reverse=True)\n",
    "    return words_freq[:n]\n",
    "\n",
    "# Convert most freq words to dataframe for plotting bar plot, save as CSV\n",
    "top_words = get_top_n_words(corpus, n=25)\n",
    "top_df = pd.DataFrame(top_words)\n",
    "top_df.columns=[\"Keyword\", \"Frequency\"]\n",
    "print(top_df)\n",
    "top_df.to_csv(mypath + '\\_top_words.csv')\n",
    "\n",
    "# Barplot of most freq words\n",
    "import seaborn as sns\n",
    "sns.set(rc={'figure.figsize':(13,8)})\n",
    "g = sns.barplot(x=\"Keyword\", y=\"Frequency\", data=top_df, palette=\"Blues_d\")\n",
    "g.set_xticklabels(g.get_xticklabels(), rotation=45)\n",
    "g.figure.savefig(mypath + \"\\_keyword.png\", bbox_inches = \"tight\")"
   ]
  },
  {
   "cell_type": "code",
   "execution_count": 56,
   "metadata": {},
   "outputs": [
    {
     "name": "stdout",
     "output_type": "stream",
     "text": [
      "                 Bi-gram  Frequency\n",
      "0            nltk corpus        155\n",
      "1         colorless idea         54\n",
      "2         idea furiously         52\n",
      "3            corpus word         50\n",
      "4          word category         32\n",
      "5          nltk freqdist         30\n",
      "6              word nltk         29\n",
      "7       lexical resource         28\n",
      "8          nltk tokenize         27\n",
      "9            corpus nltk         26\n",
      "10          tagging word         26\n",
      "11       nltk featstruct         26\n",
      "12              uest ion         26\n",
      "13        katherine liao         26\n",
      "14        corpus lexical         23\n",
      "15         sent category         22\n",
      "16  rheumatoid arthritis         22\n",
      "17      nltk defaultdict         18\n"
     ]
    },
    {
     "data": {
      "image/png": "[encoded data removed]",
      "text/plain": [
       "<Figure size 936x576 with 1 Axes>"
      ]
     },
     "metadata": {},
     "output_type": "display_data"
    }
   ],
   "source": [
    "# Most frequently occuring bigrams\n",
    "def get_top_n2_words(corpus, n=None):\n",
    "    vec1 = CountVectorizer(ngram_range=(2,2)).fit(corpus)\n",
    "    bag_of_words = vec1.transform(corpus)\n",
    "    sum_words = bag_of_words.sum(axis=0) \n",
    "    words_freq = [(word, sum_words[0, idx]) for word, idx in     \n",
    "                  vec1.vocabulary_.items()]\n",
    "    words_freq =sorted(words_freq, key = lambda x: x[1], \n",
    "                reverse=True)\n",
    "    return words_freq[:n]\n",
    "\n",
    "# Convert most freq bigrams to dataframe for plotting bar plot, save as CSV\n",
    "top2_words = get_top_n2_words(corpus, n=18)\n",
    "top2_df = pd.DataFrame(top2_words)\n",
    "top2_df.columns=[\"Bi-gram\", \"Frequency\"]\n",
    "print(top2_df)\n",
    "top2_df.to_csv(mypath + '\\_bigrams.csv')\n",
    "\n",
    "# Barplot of most freq Bi-grams\n",
    "import seaborn as sns\n",
    "sns.set(rc={'figure.figsize':(13,8)})\n",
    "h=sns.barplot(x=\"Bi-gram\", y=\"Frequency\", data=top2_df, palette=\"Blues_d\")\n",
    "h.set_xticklabels(h.get_xticklabels(), rotation=75)\n",
    "h.figure.savefig(mypath + \"\\_bi-gram.png\", bbox_inches = \"tight\")"
   ]
  },
  {
   "cell_type": "code",
   "execution_count": 57,
   "metadata": {
    "colab": {
     "base_uri": "https://localhost:8080/",
     "height": 1000
    },
    "executionInfo": {
     "elapsed": 2212,
     "status": "ok",
     "timestamp": 1652079035563,
     "user": {
      "displayName": "Primum non nocere",
      "userId": "17006643258676635526"
     },
     "user_tz": -180
    },
    "id": "8Fpt-OP6aZcT",
    "outputId": "883a1421-84bc-4597-d63f-b22e0e6c058f"
   },
   "outputs": [
    {
     "name": "stdout",
     "output_type": "stream",
     "text": [
      "                          Tri-gram  Frequency\n",
      "0         colorless idea furiously         46\n",
      "1                 nltk corpus word         33\n",
      "2          corpus lexical resource         23\n",
      "3                 word nltk corpus         19\n",
      "4   canakkale onsekiz universitesi         17\n",
      "5       featstruct nltk featstruct         17\n",
      "6         idea furiously colorless         16\n",
      "7             nltk featstruct nltk         16\n",
      "8               corpus nltk corpus         14\n",
      "9            nltk corpus gutenberg         14\n",
      "10            nltk corpus treebank         14\n",
      "11        furiously colorless idea         14\n",
      "12  openfile readmode hgetcontents         14\n",
      "13            http jamia canakkale         10\n",
      "14         jamia canakkale onsekiz         10\n",
      "15             idea furiously idea          9\n",
      "16              sent category sent          8\n",
      "17                corpus word nltk          8\n"
     ]
    },
    {
     "data": {
      "image/png": "[encoded data removed]",
      "text/plain": [
       "<Figure size 936x576 with 1 Axes>"
      ]
     },
     "metadata": {},
     "output_type": "display_data"
    }
   ],
   "source": [
    "# Most frequently occuring Tri-grams\n",
    "def get_top_n3_words(corpus, n=None):\n",
    "    vec1 = CountVectorizer(ngram_range=(3,3)).fit(corpus)\n",
    "    bag_of_words = vec1.transform(corpus)\n",
    "    sum_words = bag_of_words.sum(axis=0) \n",
    "    words_freq = [(word, sum_words[0, idx]) for word, idx in     \n",
    "                  vec1.vocabulary_.items()]\n",
    "    words_freq =sorted(words_freq, key = lambda x: x[1], \n",
    "                reverse=True)\n",
    "    return words_freq[:n]\n",
    "\n",
    "# Convert most freq trigrams to dataframe for plotting bar plot, save as CSV\n",
    "top3_words = get_top_n3_words(corpus, n=18)\n",
    "top3_df = pd.DataFrame(top3_words)\n",
    "top3_df.columns=[\"Tri-gram\", \"Frequency\"]\n",
    "print(top3_df)\n",
    "top3_df.to_csv(mypath + '\\_trigrams.csv')\n",
    "\n",
    "# Barplot of most freq Tri-grams\n",
    "import seaborn as sns\n",
    "sns.set(rc={'figure.figsize':(13,8)})\n",
    "j=sns.barplot(x=\"Tri-gram\", y=\"Frequency\", data=top3_df, palette=\"Blues_d\")\n",
    "j.set_xticklabels(j.get_xticklabels(), rotation=75)\n",
    "j.figure.savefig(mypath + \"\\_tri-gram.png\", bbox_inches = \"tight\")"
   ]
  },
  {
   "cell_type": "markdown",
   "metadata": {},
   "source": [
    "## Test için ayırdığımız dosyalarda sonuçları test etme"
   ]
  },
  {
   "cell_type": "code",
   "execution_count": 58,
   "metadata": {},
   "outputs": [],
   "source": [
    "related_test_pdf_files = [f for f in os.listdir(mypath+'/test_pdf/related')]"
   ]
  },
  {
   "cell_type": "code",
   "execution_count": 59,
   "metadata": {},
   "outputs": [
    {
     "name": "stdout",
     "output_type": "stream",
     "text": [
      "=============START=============\n",
      "===>eisenstein-nov18.pdf\n",
      "===>NLP.web.pdf\n",
      "==============END==============\n"
     ]
    }
   ],
   "source": [
    "related_test_book_text = \"\"\n",
    "print(\"=============START=============\")\n",
    "for pf in related_test_pdf_files:\n",
    "    if '.pdf' in pf:\n",
    "        print('===>'+ pf)\n",
    "        reader = pydf.PdfFileReader(mypath+'/test_pdf/related/'+ pf, strict=False)\n",
    "        number_of_pages = reader.numPages\n",
    "        for page in reader.pages:\n",
    "            related_test_book_text += page.extractText()\n",
    "print(\"==============END==============\")    "
   ]
  },
  {
   "cell_type": "code",
   "execution_count": 60,
   "metadata": {},
   "outputs": [],
   "source": [
    "nonrelated_test_pdf_files = [f for f in os.listdir(mypath+'/test_pdf/nonrelated')]"
   ]
  },
  {
   "cell_type": "code",
   "execution_count": 61,
   "metadata": {},
   "outputs": [
    {
     "name": "stdout",
     "output_type": "stream",
     "text": [
      "=============START=============\n",
      "===>Quantum Computing_ Progress and Prospects - Emily Grumbling.pdf\n",
      "===>Space, Time and Einstein ( PDFDrive ).pdf\n",
      "==============END==============\n"
     ]
    }
   ],
   "source": [
    "nonrelated_test_book_text = \"\"\n",
    "print(\"=============START=============\")\n",
    "for pf in nonrelated_test_pdf_files:\n",
    "    if '.pdf' in pf:\n",
    "        print('===>'+ pf)\n",
    "        reader = pydf.PdfFileReader(mypath+'/test_pdf/nonrelated/'+ pf, strict=False)\n",
    "        number_of_pages = reader.numPages\n",
    "        for page in reader.pages:\n",
    "            nonrelated_test_book_text += page.extractText()\n",
    "print(\"==============END==============\")  "
   ]
  },
  {
   "cell_type": "markdown",
   "metadata": {},
   "source": [
    "Bulunan kelimeleri cümle içinde görmek için elde ettiğimiz text'i tarama işlemi"
   ]
  },
  {
   "cell_type": "code",
   "execution_count": 62,
   "metadata": {},
   "outputs": [
    {
     "name": "stdout",
     "output_type": "stream",
     "text": [
      "word : wordnet lexical database english\n",
      "word : glove global vector word representation\n",
      "word : word structure\n",
      "word : wordnet\n",
      "word : simple example word list\n",
      "word : match pair word like\n",
      "word : comparing word length different language\n",
      "word : categorizing tagging word\n",
      "word : typed word\n",
      "word : eyword sear ching word\n",
      "word : howmany word\n",
      "word : playing with word\n",
      "word : from word sentence\n",
      "word : word list\n",
      "word : word frequency list\n",
      "word : word pattern matching\n",
      "word : other type word have inflection well\n",
      "word : line word\n",
      "word : other word addition conditional\n",
      "word : silly were fooled word list\n",
      "word : what actually want build word\n",
      "word : word value never escape monad\n",
      "word : move window word right\n",
      "word : move window word right\n",
      "word : other word bias\n",
      "word : both sentence contain word trust\n",
      "nltk : activity using nltk tool\n",
      "nltk : tokenisation nltk\n",
      "nltk : using nltk tool page\n",
      "nltk : nltk index\n",
      "nltk : nltk\n",
      "corpus : corpus annotation scheme\n",
      "corpus : corpus other data resource\n",
      "corpus : some us corpus\n",
      "corpus : brown corpus\n",
      "corpus : british national corpus\n",
      "corpus : other corpus\n",
      "corpus : activity online corpus query\n",
      "corpus : some basic corpus analysis\n",
      "corpus : corpus some worked example\n",
      "corpus : online corpus query page\n",
      "corpus : import brown corpus\n",
      "corpus : list different category within corpus\n",
      "corpus : accessing text corpus lexical resource\n",
      "corpus : reading text corpus\n",
      "corpus : some example book corpus\n",
      "corpus : length each token corpus\n",
      "corpus : divide length corpus\n",
      "corpus : extract bigram from corpus\n",
      "corpus : that indeed corpus beautified format\n",
      "corpus : corpus also collected speci task\n",
      "corpus : corpus needed reason\n",
      "model : stanza library model many language\n",
      "model : hidden markov model\n",
      "model : markov model\n",
      "model : competing model\n",
      "model : have ourselves language model\n",
      "thing : wait anything right\n",
      "thing : nothing just nothing just\n",
      "thing : both condition return nothing\n",
      "sentence : root node sentence\n",
      "sentence : display sentence soysents\n",
      "sentence : analyzing sentence structure\n",
      "sentence : analyzing meaning sentence\n",
      "sentence : from word sentence\n",
      "sentence : estimating probability sentence\n",
      "sentence : look three simple sentence walk\n",
      "sentence : consider following sentence\n",
      "sentence : will find four sentence\n",
      "sentence : course just sentence\n",
      "sentence : both sentence separated using newline\n",
      "sentence : both sentence contain word trust\n",
      "sentence : used pragmatically anomalous sentence\n",
      "system : system whatispsp\n",
      "system : system\n",
      "system : system\n",
      "system : system plan\n",
      "system : system withdrawal\n",
      "system : system cheque\n",
      "system : domainexpert veri ednlp system output\n",
      "system : system prompt month\n",
      "system : system prompt\n",
      "system : system prompt month\n",
      "system : spok dialogue system\n",
      "language : stanza library model many language\n",
      "language : natural language processing\n",
      "language : natural language processing\n",
      "language : using natural language toolkit\n",
      "language : temporal text indicate language over time\n",
      "language : declaration human right language\n",
      "language : what language genre doe represent\n",
      "language : comparing word length different language\n",
      "language : language processing python\n",
      "language : language context\n",
      "language : language context context\n",
      "language : what natural language processing\n",
      "language : regular language proposed\n",
      "language : however language also structure\n",
      "language : what natural language processing\n",
      "language : have ourselves language model\n",
      "language : regular language proposed chapter\n",
      "language : language ocessing cult\n",
      "rule : activity writing production rule\n",
      "rule : activity bayes rule\n",
      "rule : activity bayes rule page\n",
      "rule : this example rule over tting data\n",
      "rule : nitesetofrules\n",
      "rule : transformation rule selection criterion\n",
      "rule : infer rule there\n",
      "rule : transformation rule selection criterion\n",
      "rule : rule give improvement\n",
      "rule : rule template follow very simple format\n",
      "rule : rule instantiation\n",
      "rule : could calculate score rule\n",
      "rule : grammar just need rule\n",
      "example : corpus some worked example\n",
      "example : example character string\n",
      "example : proper noun example jack noun phrase\n",
      "example : simple example word list\n",
      "example : more complex example\n",
      "example : this example rule over tting data\n",
      "example : will consider detailed example chapter\n",
      "example : example bird\n",
      "example : give example each case\n",
      "example : well correct example like\n",
      "example : example ench\n",
      "example : always canyouthinkofa speci cexample\n",
      "example : some example book corpus\n",
      "example : example believable\n",
      "question : sample examination question\n",
      "question : sample examination question\n",
      "question : sample examination question\n",
      "question : sample examination question\n",
      "token : tokenised text pattern matching\n",
      "token : tokenisation\n",
      "token : some issue with tokenisation\n",
      "token : tokenisation nltk\n",
      "token : activity tokenising text\n",
      "token : note tokenization\n",
      "token : type token ratio\n",
      "token : length each token corpus\n",
      "token : length token\n",
      "token : token separated space\n",
      "token : actual tokenization\n",
      "token : only increment number token\n",
      "feature : figure summarizes feature\n",
      "feature : activity feature based grammar\n",
      "feature : activity feature based grammar page\n",
      "feature : building feature based grammar\n",
      "feature : calculating empirical value feature\n",
      "feature : calculating expected value feature\n",
      "feature : what same feature\n",
      "feature : sequence feature path\n",
      "feature : each feature thus atomic alued\n",
      "mean : analyzing meaning sentence\n",
      "mean : what doe mean predict training data\n",
      "mean : pragmatic meaning conte\n",
      "mean : meaning postulate\n",
      "mean : synonymy ving same meaning\n",
      "mean : this mean that noun phrase nested\n",
      "vector : glove global vector word representation\n",
      "vector : then convert each subvector list\n",
      "student : rewarding student\n",
      "student : transcript student\n",
      "student : student dance\n",
      "student : student person exists\n",
      "student : thus refers subset student\n",
      "grammar : activity regular grammar\n",
      "grammar : activity context free grammar\n",
      "grammar : grammar syntax\n",
      "grammar : grammar parsing\n",
      "grammar : activity feature based grammar\n",
      "grammar : ambiguity probabilistic grammar\n",
      "grammar : activity probabilistic grammar\n",
      "grammar : regular grammar page\n",
      "grammar : activity feature based grammar page\n",
      "grammar : building feature based grammar\n",
      "grammar : context free grammar proposed\n",
      "grammar : context free grammar proposed chapter\n",
      "grammar : arsing with constraint based grammar\n",
      "grammar : constraint based grammar cation\n",
      "grammar : grammar just need rule\n",
      "grammar : grammar erleaf doe this\n",
      "term : shall thetermslisted\n",
      "term : kreimeyerk fosterm pandeya etal\n",
      "term : this deterministic\n",
      "work : figure show work\n",
      "work : corpus some worked example\n",
      "work : ework\n",
      "work : probably expected that didn work\n",
      "work : some real work\n",
      "work : that worked nice\n",
      "work : wait will this work\n",
      "work : doe this work\n",
      "work : that working programmer\n",
      "task : corpus also collected speci task\n",
      "way : always canyouthinkofa speci cexample\n",
      "way : really always\n",
      "way : chapter inaway\n",
      "way : inwhatwayis waterpump erentfrom castironpump\n",
      "way : insteadof makeway\n",
      "way : outcomeswere measured reliableway\n",
      "sent : glove global vector word representation\n",
      "sent : representing nite state machine\n",
      "sent : root node sentence\n",
      "sent : what language genre doe represent\n",
      "sent : display sentence soysents\n",
      "sent : analyzing sentence structure\n",
      "sent : analyzing meaning sentence\n",
      "sent : input sent ence\n",
      "sent : from word sentence\n",
      "sent : estimating probability sentence\n",
      "sent : look three simple sentence walk\n",
      "sent : consider following sentence\n",
      "sent : will find four sentence\n",
      "sent : course just sentence\n",
      "sent : sentence line\n",
      "sent : both sentence separated using newline\n",
      "sent : most sentence\n",
      "sent : this pattern represented underscore\n",
      "sent : both sentence contain word trust\n",
      "sent : used pragmatically anomalous sentence\n",
      "sent : xpensi christmas present\n",
      "sent : each sentence\n",
      "result : result becomes result lookuporder\n"
     ]
    }
   ],
   "source": [
    "for i in top_words:\n",
    "     for j in pdf_sentence_text:\n",
    "            if(len(j)<50 and len(j)>len(i[0])*3):\n",
    "                t=clean(j, set())\n",
    "                if i[0] in t:\n",
    "                    print(i[0]+' : '+t)"
   ]
  },
  {
   "cell_type": "code",
   "execution_count": 63,
   "metadata": {},
   "outputs": [
    {
     "name": "stdout",
     "output_type": "stream",
     "text": [
      "corpus lexical : accessing text corpus lexical resource\n"
     ]
    }
   ],
   "source": [
    "for i in top2_words:\n",
    "    for j in pdf_sentence_text:\n",
    "        if(len(j)<50 and len(j)>len(i[0])*3):\n",
    "            t=clean(j, set())\n",
    "            if i[0] in t:\n",
    "                print(i[0]+' : '+t)"
   ]
  },
  {
   "cell_type": "code",
   "execution_count": 64,
   "metadata": {},
   "outputs": [],
   "source": [
    "for i in top3_words:\n",
    "    for j in pdf_sentence_text:\n",
    "        if(len(j)<50 and len(j)>len(i[0])*3):\n",
    "            t=clean(j, set())\n",
    "            if i[0] in t:\n",
    "                print(i[0]+' : '+t)"
   ]
  },
  {
   "cell_type": "markdown",
   "metadata": {},
   "source": [
    "#### Bulduğumuz istediğimiz alana özgü kelimelerin ne kadar alana özgü olduğunu test etme\n",
    "Öncelikle bulduğumuz kelimeleri istediğimiz alanda daha önce kullanmadığımız kaynaklarda sıklığını buluyoruz."
   ]
  },
  {
   "cell_type": "code",
   "execution_count": 65,
   "metadata": {},
   "outputs": [
    {
     "data": {
      "text/plain": [
       "8750"
      ]
     },
     "execution_count": 65,
     "metadata": {},
     "output_type": "execute_result"
    }
   ],
   "source": [
    "counter_text_of_interest=0\n",
    "c = clean(related_test_book_text, set()).split()\n",
    "for i in top_words:\n",
    "     for j in c:\n",
    "            if i[0] in j:\n",
    "                counter_text_of_interest+=1\n",
    "counter_text_of_interest"
   ]
  },
  {
   "cell_type": "markdown",
   "metadata": {},
   "source": [
    "Sonrasında bulduğumuz kelimeleri alakasız alanlarda daha önce kullanmadığımız kaynaklarda sıklığını buluyoruz."
   ]
  },
  {
   "cell_type": "code",
   "execution_count": 66,
   "metadata": {},
   "outputs": [
    {
     "data": {
      "text/plain": [
       "3128"
      ]
     },
     "execution_count": 66,
     "metadata": {},
     "output_type": "execute_result"
    }
   ],
   "source": [
    "counter_other_text=0\n",
    "sbt = clean(nonrelated_test_book_text, set()).split()\n",
    "for i in top_words:\n",
    "    for j in sbt:\n",
    "        if i[0] in j:\n",
    "            counter_other_text+=1\n",
    "counter_other_text"
   ]
  },
  {
   "cell_type": "code",
   "execution_count": 67,
   "metadata": {},
   "outputs": [
    {
     "name": "stdout",
     "output_type": "stream",
     "text": [
      "Bulduğumuz kelimelerin istediğimiz alanda bulunma oranı: 0.08141731257734644\n",
      "Bulduğumuz kelimelerin diğer alanlarda bulunma oranı: 0.02674921753407789\n"
     ]
    }
   ],
   "source": [
    "print('Bulduğumuz kelimelerin istediğimiz alanda bulunma oranı:',counter_text_of_interest/len(c))\n",
    "print('Bulduğumuz kelimelerin diğer alanlarda bulunma oranı:',counter_other_text/len(sbt))"
   ]
  },
  {
   "cell_type": "code",
   "execution_count": null,
   "metadata": {},
   "outputs": [],
   "source": []
  }
 ],
 "metadata": {
  "colab": {
   "name": "text-analytics.ipynb",
   "version": ""
  },
  "interpreter": {
   "hash": "82c9e25cea8546e9cdf4c914bebe97fbe9b727bb5e39e8441182a524c1bf3bc7"
  },
  "kernelspec": {
   "display_name": "Python 3",
   "language": "python",
   "name": "python3"
  },
  "language_info": {
   "codemirror_mode": {
    "name": "ipython",
    "version": 3
   },
   "file_extension": ".py",
   "mimetype": "text/x-python",
   "name": "python",
   "nbconvert_exporter": "python",
   "pygments_lexer": "ipython3",
   "version": "3.8.8"
  }
 },
 "nbformat": 4,
 "nbformat_minor": 1
}
